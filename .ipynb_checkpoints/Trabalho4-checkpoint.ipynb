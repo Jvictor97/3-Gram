{
 "cells": [
  {
   "cell_type": "code",
   "execution_count": 48,
   "metadata": {},
   "outputs": [],
   "source": [
    "import re\n",
    "import nltk\n",
    "from string import punctuation\n",
    "import pandas as pd\n",
    "from collections import defaultdict\n",
    "import os\n",
    "import io\n",
    "import math\n",
    "import matplotlib.pyplot as plt\n",
    "import sys"
   ]
  },
  {
   "cell_type": "markdown",
   "metadata": {},
   "source": [
    "# Funções de pré-processamento de texto"
   ]
  },
  {
   "cell_type": "code",
   "execution_count": 25,
   "metadata": {},
   "outputs": [],
   "source": [
    "def text_lowercase(text):\n",
    "    return text.lower()\n",
    "\n",
    "def remove_numbers(text):\n",
    "    return re.sub(r'\\d+', '', text)\n",
    "\n",
    "def remove_double_periods(text): \n",
    "    return re.sub(r'( *\\. *(\\. *)*)+', ' . ', text)\n",
    "\n",
    "def remove_punctuation(text):\n",
    "    symbols_pattern = r'[!\"#\\$%&\\'\\(\\)\\*\\+,\\-\\–\\/:=\\?@\\[\\\\\\]\\^_`{\\|}~º(...)]'\n",
    "    text = re.sub(symbols_pattern, ' ', text)\n",
    "    return text\n",
    "\n",
    "def remove_multiple_whitespace(text):\n",
    "    return re.sub(' +', ' ', text)\n",
    "\n",
    "def remove_stopwords(text):\n",
    "    stop_words = set(nltk.corpus.stopwords.words('portuguese'))\n",
    "    tokens = nltk.tokenize.word_tokenize(text)\n",
    "    clean_text = [token for token in tokens if token not in stop_words]\n",
    "    return ' '.join(clean_text)\n",
    "\n",
    "def replace_linebreak_with_period(text):\n",
    "    return re.sub(r' *\\n *', ' . ', text)\n",
    "\n",
    "def insert_tags(text): \n",
    "    text = '<s> <s> ' + text\n",
    "    text = re.sub(r' *(?<!^)\\. *(?!$)| *; *', ' </s> </s> <s> <s> ', text)\n",
    "    return re.sub(' *\\. *$', ' </s> </s> ', text)\n",
    "\n",
    "def remove_empty_sentences(text):\n",
    "    return re.sub('<s>\\s*<s>\\s*<\\/s>\\s*<\\/s>', '', text)\n",
    "\n",
    "def preprocess_text(text):\n",
    "    text = text_lowercase(text)\n",
    "    text = remove_numbers(text)\n",
    "    text = remove_punctuation(text)\n",
    "    text = replace_linebreak_with_period(text)\n",
    "    text = remove_multiple_whitespace(text)\n",
    "    text = text + '.' # insert final period just in case\n",
    "    text = remove_double_periods(text)\n",
    "    text = remove_stopwords(text)\n",
    "    text = insert_tags(text)\n",
    "    text = remove_empty_sentences(text)\n",
    "    return text"
   ]
  },
  {
   "cell_type": "markdown",
   "metadata": {},
   "source": [
    "# Treinamento"
   ]
  },
  {
   "cell_type": "code",
   "execution_count": 3,
   "metadata": {},
   "outputs": [
    {
     "name": "stdout",
     "output_type": "stream",
     "text": [
      "processing file 365 of 365\r"
     ]
    }
   ],
   "source": [
    "three_gram = defaultdict(lambda : defaultdict(int))\n",
    "bi_gram = defaultdict(lambda : defaultdict(int))\n",
    "uni_gram = defaultdict(int)\n",
    "vocabulary = set()\n",
    "word_count = 0\n",
    "tags = ['<s>', '</s>']\n",
    "\n",
    "def filter_words(word):\n",
    "    return word not in tags\n",
    "\n",
    "def proccess_dataset():\n",
    "    files = os.listdir(os.getcwd() + \"/CHAVEFolha/folha95\")\n",
    "    total = len(files)\n",
    "    for index, file_name in enumerate(files):\n",
    "        print(f'processing file {index+1} of {total}\\r', sep=' ', end='', flush=True)\n",
    "        f = io.open(os.getcwd() + \"\\\\CHAVEFolha\\\\folha95\\\\\" + file_name, mode=\"r\", encoding=\"latin-1\")\n",
    "        file_content = f.read()\n",
    "        texts = re.findall(\"(?<=<TEXT>\\n)[\\w\\W]+?(?=<\\/TEXT>)\", file_content)\n",
    "\n",
    "        for text in texts: \n",
    "            preprocessed_text = preprocess_text(text)\n",
    "            build_tables(preprocessed_text)\n",
    "\n",
    "def build_tables(preprocessed_text):\n",
    "    global word_count, vocabulary\n",
    "    #for sentence in re.findall('(?<=<s><s>)[\\w\\W]*?(?=<\\/s><\\/s>)', preprocessed_text):\n",
    "    for sentence in re.findall('\\s*<s>\\s*<s>\\s*.+?\\s*<\\/s>\\s*<\\/s>\\s*', preprocessed_text):\n",
    "        words = sentence.split()\n",
    "        word_count += len(words)\n",
    "        \n",
    "        for word in words:\n",
    "            vocabulary.add(word)\n",
    "            uni_gram[word] += 1\n",
    "            \n",
    "        for index in range(len(words) - 1):\n",
    "            word1 = words[index]\n",
    "            word2 = words[index+1]\n",
    "            bi_gram[word1][word2] += 1\n",
    "        \n",
    "        for index in range(len(words) - 2):\n",
    "            word1 = words[index]\n",
    "            word2 = words[index+1]\n",
    "            word3 = words[index+2]\n",
    "            three_gram[f'{word1} {word2}'][word3] += 1\n",
    "            \n",
    "proccess_dataset()"
   ]
  },
  {
   "cell_type": "markdown",
   "metadata": {},
   "source": [
    "# Função para calcular a probabilidade"
   ]
  },
  {
   "cell_type": "code",
   "execution_count": 50,
   "metadata": {},
   "outputs": [],
   "source": [
    "def calculate_probability(word3, word1, word2):    \n",
    "    three_gram_probability =  (three_gram[f'{word1} {word2}'][word3] / bi_gram[word1][word2]) if bi_gram[word1][word2] > 0 else 0\n",
    "    bi_gram_probability =  (bi_gram[word2][word3] / uni_gram[word2]) if uni_gram[word2] > 0 else 0\n",
    "    uni_gram_probability = uni_gram[word3] / len(vocabulary)\n",
    "    \n",
    "    probability = 0.7 * three_gram_probability + 0.2 * bi_gram_probability + 0.1 * uni_gram_probability\n",
    "    return probability if probability > 0.0 else sys.float_info.min"
   ]
  },
  {
   "cell_type": "markdown",
   "metadata": {},
   "source": [
    "# Testando contra o dataset folha94"
   ]
  },
  {
   "cell_type": "code",
   "execution_count": 60,
   "metadata": {},
   "outputs": [
    {
     "name": "stdout",
     "output_type": "stream",
     "text": [
      "processing file 365 of 365\r"
     ]
    }
   ],
   "source": [
    "test_file = open('CHAVEFolha/folha94/FSP.940101.sgml')\n",
    "content = test_file.read()\n",
    "texts = re.findall(\"(?<=<TEXT>\\n)[\\w\\W]+?(?=<\\/TEXT>)\", content)\n",
    "per_sentence_perplexity = defaultdict(int)\n",
    "sentences = []\n",
    "\n",
    "test_files = os.listdir(os.getcwd() + \"/CHAVEFolha/folha94\")\n",
    "total = len(test_files)\n",
    "    \n",
    "for index, file_name in enumerate(test_files):\n",
    "    print(f'processing file {index+1} of {total}\\r', sep=' ', end='', flush=True)\n",
    "    f = io.open(os.getcwd() + \"\\\\CHAVEFolha\\\\folha94\\\\\" + file_name, mode=\"r\", encoding=\"latin-1\")\n",
    "    file_content = f.read()\n",
    "    texts = re.findall(\"(?<=<TEXT>\\n)[\\w\\W]+?(?=<\\/TEXT>)\", file_content)\n",
    "\n",
    "    for text in texts:\n",
    "        preprocessed_text = preprocess_text(text)\n",
    "        for sentence in re.findall('\\s*<s>\\s*<s>\\s*.+?\\s*<\\/s>\\s*<\\/s>\\s*', preprocessed_text):\n",
    "            words = sentence.split()\n",
    "            probability = 0\n",
    "\n",
    "            for index in range(len(words) - 2):\n",
    "                word1 = words[index]\n",
    "                word2 = words[index+1]\n",
    "                word3 = words[index+2]\n",
    "                \n",
    "                _probability = calculate_probability(word3, word1, word2)\n",
    "                probability += math.log(_probability)\n",
    "            per_sentence_perplexity[sentence] = math.exp(probability)**(-1/float(len(words))) if math.exp(probability) > 0.0 else math.inf"
   ]
  },
  {
   "cell_type": "code",
   "execution_count": 55,
   "metadata": {},
   "outputs": [
    {
     "data": {
      "text/plain": [
       "2.2250738585072014e-308"
      ]
     },
     "execution_count": 55,
     "metadata": {},
     "output_type": "execute_result"
    }
   ],
   "source": [
    "calculate_probability('kimaiyo','queniana','hellen')"
   ]
  },
  {
   "cell_type": "code",
   "execution_count": 61,
   "metadata": {},
   "outputs": [],
   "source": [
    "values = per_sentence_perplexity.values()"
   ]
  },
  {
   "cell_type": "code",
   "execution_count": 65,
   "metadata": {},
   "outputs": [],
   "source": [
    "sorted_perplexity = {k: v for k, v in sorted(per_sentence_perplexity.items(), key=lambda item: item[1])}"
   ]
  },
  {
   "cell_type": "code",
   "execution_count": 68,
   "metadata": {},
   "outputs": [
    {
     "data": {
      "text/plain": [
       "('<s> <s> avaliação poderia fazer hoje toda obra andré malraux conhecedor confiável acervo literário arriscaria dizer romance básico condição humana caiu bastante esquecimento memorialística padece talvez certo preciosismo mim herança estupenda imorredoura andré malraux museus imaginários montou assombrosos palácios forrados fotos inspiradas ressoantes palavras capitosas </s> </s> ',\n",
       " inf)"
      ]
     },
     "execution_count": 68,
     "metadata": {},
     "output_type": "execute_result"
    }
   ],
   "source": [
    "list(sorted_perplexity.items())[-1]"
   ]
  },
  {
   "cell_type": "code",
   "execution_count": 6,
   "metadata": {},
   "outputs": [
    {
     "data": {
      "text/plain": [
       "[<matplotlib.lines.Line2D at 0x2a5c830c670>]"
      ]
     },
     "execution_count": 6,
     "metadata": {},
     "output_type": "execute_result"
    },
    {
     "data": {
      "image/png": "[encoded data removed]",
      "text/plain": [
       "<Figure size 1008x504 with 1 Axes>"
      ]
     },
     "metadata": {
      "needs_background": "light"
     },
     "output_type": "display_data"
    }
   ],
   "source": [
    "plt.figure(figsize=(14,7))\n",
    "plt.xlabel('Sentence')\n",
    "plt.ylabel('Perplexity')\n",
    "plt.plot(per_sentence_perplexity)"
   ]
  },
  {
   "cell_type": "code",
   "execution_count": 112,
   "metadata": {},
   "outputs": [
    {
     "data": {
      "text/plain": [
       "51875"
      ]
     },
     "execution_count": 112,
     "metadata": {},
     "output_type": "execute_result"
    }
   ],
   "source": [
    "len(per_sentence_perplexity)"
   ]
  },
  {
   "cell_type": "code",
   "execution_count": null,
   "metadata": {},
   "outputs": [],
   "source": []
  },
  {
   "cell_type": "code",
   "execution_count": 7,
   "metadata": {},
   "outputs": [
    {
     "data": {
      "text/plain": [
       "160"
      ]
     },
     "execution_count": 7,
     "metadata": {},
     "output_type": "execute_result"
    }
   ],
   "source": [
    "per_sentence_perplexity.index(min(per_sentence_perplexity))"
   ]
  },
  {
   "cell_type": "code",
   "execution_count": 8,
   "metadata": {},
   "outputs": [
    {
     "data": {
      "text/plain": [
       "'<s> <s> cr </s> </s> '"
      ]
     },
     "execution_count": 8,
     "metadata": {},
     "output_type": "execute_result"
    }
   ],
   "source": [
    "sentences[160]"
   ]
  },
  {
   "cell_type": "code",
   "execution_count": null,
   "metadata": {},
   "outputs": [],
   "source": []
  }
 ],
 "metadata": {
  "kernelspec": {
   "display_name": "Python 3",
   "language": "python",
   "name": "python3"
  },
  "language_info": {
   "codemirror_mode": {
    "name": "ipython",
    "version": 3
   },
   "file_extension": ".py",
   "mimetype": "text/x-python",
   "name": "python",
   "nbconvert_exporter": "python",
   "pygments_lexer": "ipython3",
   "version": "3.8.5"
  }
 },
 "nbformat": 4,
 "nbformat_minor": 4
}
