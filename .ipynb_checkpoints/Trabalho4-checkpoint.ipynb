{
 "cells": [
  {
   "cell_type": "code",
   "execution_count": 1,
   "metadata": {},
   "outputs": [],
   "source": [
    "import re\n",
    "import nltk\n",
    "from string import punctuation\n",
    "import pandas as pd\n",
    "from collections import defaultdict\n",
    "import os\n",
    "import io\n",
    "import math\n",
    "import matplotlib.pyplot as plt\n",
    "import sys"
   ]
  },
  {
   "cell_type": "markdown",
   "metadata": {},
   "source": [
    "# Funções de pré-processamento de texto"
   ]
  },
  {
   "cell_type": "code",
   "execution_count": 2,
   "metadata": {},
   "outputs": [],
   "source": [
    "def text_lowercase(text):\n",
    "    return text.lower()\n",
    "\n",
    "def remove_numbers(text):\n",
    "    return re.sub(r'\\d+', '', text)\n",
    "\n",
    "def remove_double_periods(text): \n",
    "    return re.sub(r'( *\\. *(\\. *)*)+', ' . ', text)\n",
    "\n",
    "def remove_punctuation(text):\n",
    "    symbols_pattern = r'[!\"#\\$%&\\'\\(\\)\\*\\+,\\-\\–\\/:=\\?@\\[\\\\\\]\\^_`{\\|}~º(...)]'\n",
    "    text = re.sub(symbols_pattern, ' ', text)\n",
    "    return text\n",
    "\n",
    "def remove_multiple_whitespace(text):\n",
    "    return re.sub(' +', ' ', text)\n",
    "\n",
    "def remove_stopwords(text):\n",
    "    stop_words = set(nltk.corpus.stopwords.words('portuguese'))\n",
    "    tokens = nltk.tokenize.word_tokenize(text)\n",
    "    clean_text = [token for token in tokens if token not in stop_words]\n",
    "    return ' '.join(clean_text)\n",
    "\n",
    "def replace_linebreak_with_period(text):\n",
    "    return re.sub(r' *\\n *', ' . ', text)\n",
    "\n",
    "def insert_tags(text): \n",
    "    text = '<s> <s> ' + text\n",
    "    text = re.sub(r' *(?<!^)\\. *(?!$)| *; *', ' </s> </s> <s> <s> ', text)\n",
    "    return re.sub(' *\\. *$', ' </s> </s> ', text)\n",
    "\n",
    "def remove_empty_sentences(text):\n",
    "    return re.sub('<s>\\s*<s>\\s*<\\/s>\\s*<\\/s>', '', text)\n",
    "\n",
    "def preprocess_text(text):\n",
    "    text = text_lowercase(text)\n",
    "    text = remove_numbers(text)\n",
    "    text = remove_punctuation(text)\n",
    "    text = replace_linebreak_with_period(text)\n",
    "    text = remove_multiple_whitespace(text)\n",
    "    text = text + '.' # insert final period just in case\n",
    "    text = remove_double_periods(text)\n",
    "    text = remove_stopwords(text)\n",
    "    text = insert_tags(text)\n",
    "    text = remove_empty_sentences(text)\n",
    "    return text"
   ]
  },
  {
   "cell_type": "markdown",
   "metadata": {},
   "source": [
    "# Treinamento do Modelo 3-Gram com Interpolação"
   ]
  },
  {
   "cell_type": "code",
   "execution_count": 3,
   "metadata": {},
   "outputs": [
    {
     "name": "stdout",
     "output_type": "stream",
     "text": [
      "processing file 365 of 365\r"
     ]
    }
   ],
   "source": [
    "three_gram = defaultdict(lambda : defaultdict(int))\n",
    "bi_gram = defaultdict(lambda : defaultdict(int))\n",
    "uni_gram = defaultdict(int)\n",
    "vocabulary = set()\n",
    "word_count = 0\n",
    "tags = ['<s>', '</s>']\n",
    "\n",
    "def filter_words(word):\n",
    "    return word not in tags\n",
    "\n",
    "def proccess_dataset():\n",
    "    files = os.listdir(os.getcwd() + \"/CHAVEFolha/folha95\")\n",
    "    total = len(files)\n",
    "    for index, file_name in enumerate(files):\n",
    "        print(f'processing file {index+1} of {total}\\r', sep=' ', end='', flush=True)\n",
    "        f = io.open(os.getcwd() + \"\\\\CHAVEFolha\\\\folha95\\\\\" + file_name, mode=\"r\", encoding=\"latin-1\")\n",
    "        file_content = f.read()\n",
    "        texts = re.findall(\"(?<=<TEXT>\\n)[\\w\\W]+?(?=<\\/TEXT>)\", file_content)\n",
    "\n",
    "        for text in texts: \n",
    "            preprocessed_text = preprocess_text(text)\n",
    "            build_tables(preprocessed_text)\n",
    "\n",
    "def build_tables(preprocessed_text):\n",
    "    global word_count, vocabulary\n",
    "    #for sentence in re.findall('(?<=<s><s>)[\\w\\W]*?(?=<\\/s><\\/s>)', preprocessed_text):\n",
    "    for sentence in re.findall('\\s*<s>\\s*<s>\\s*.+?\\s*<\\/s>\\s*<\\/s>\\s*', preprocessed_text):\n",
    "        words = sentence.split()\n",
    "        word_count += len(words)\n",
    "        \n",
    "        for word in words:\n",
    "            vocabulary.add(word)\n",
    "            uni_gram[word] += 1\n",
    "            \n",
    "        for index in range(len(words) - 1):\n",
    "            word1 = words[index]\n",
    "            word2 = words[index+1]\n",
    "            bi_gram[word1][word2] += 1\n",
    "        \n",
    "        for index in range(len(words) - 2):\n",
    "            word1 = words[index]\n",
    "            word2 = words[index+1]\n",
    "            word3 = words[index+2]\n",
    "            three_gram[f'{word1} {word2}'][word3] += 1\n",
    "            \n",
    "proccess_dataset()"
   ]
  },
  {
   "cell_type": "markdown",
   "metadata": {},
   "source": [
    "# Função para calcular a probabilidade"
   ]
  },
  {
   "cell_type": "code",
   "execution_count": 4,
   "metadata": {},
   "outputs": [],
   "source": [
    "def calculate_probability(word3, word1, word2):    \n",
    "    three_gram_probability =  (three_gram[f'{word1} {word2}'][word3] / bi_gram[word1][word2]) if bi_gram[word1][word2] > 0 else 0\n",
    "    bi_gram_probability =  (bi_gram[word2][word3] / uni_gram[word2]) if uni_gram[word2] > 0 else 0\n",
    "    uni_gram_probability = uni_gram[word3] / len(vocabulary)\n",
    "    \n",
    "    probability = 0.5 * three_gram_probability + 0.3 * bi_gram_probability + 0.2 * uni_gram_probability\n",
    "    return probability if probability > 0.0 else sys.float_info.min"
   ]
  },
  {
   "cell_type": "markdown",
   "metadata": {},
   "source": [
    "# Testando contra o dataset folha94"
   ]
  },
  {
   "cell_type": "code",
   "execution_count": 5,
   "metadata": {},
   "outputs": [
    {
     "name": "stdout",
     "output_type": "stream",
     "text": [
      "processing file 365 of 365\r"
     ]
    }
   ],
   "source": [
    "per_sentence_perplexity = defaultdict(int)\n",
    "sentences = []\n",
    "\n",
    "test_files = os.listdir(os.getcwd() + \"/CHAVEFolha/folha94\")\n",
    "total = len(test_files)\n",
    "    \n",
    "for index, file_name in enumerate(test_files):\n",
    "    print(f'processing file {index+1} of {total}\\r', sep=' ', end='', flush=True)\n",
    "    f = io.open(os.getcwd() + \"\\\\CHAVEFolha\\\\folha94\\\\\" + file_name, mode=\"r\", encoding=\"latin-1\")\n",
    "    file_content = f.read()\n",
    "    texts = re.findall(\"(?<=<TEXT>\\n)[\\w\\W]+?(?=<\\/TEXT>)\", file_content)\n",
    "\n",
    "    for text in texts:\n",
    "        preprocessed_text = preprocess_text(text)\n",
    "        for sentence in re.findall('\\s*<s>\\s*<s>\\s*.+?\\s*<\\/s>\\s*<\\/s>\\s*', preprocessed_text):\n",
    "            words = sentence.split()\n",
    "            probability = 0\n",
    "\n",
    "            for index in range(len(words) - 2):\n",
    "                word1 = words[index]\n",
    "                word2 = words[index+1]\n",
    "                word3 = words[index+2]\n",
    "                \n",
    "                _probability = calculate_probability(word3, word1, word2)\n",
    "                probability += math.log(_probability)\n",
    "            per_sentence_perplexity[sentence] = math.exp(probability)**(-1/float(len(words))) if math.exp(probability) > 0.0 else math.inf"
   ]
  },
  {
   "cell_type": "code",
   "execution_count": 6,
   "metadata": {},
   "outputs": [],
   "source": [
    "values = per_sentence_perplexity.values()"
   ]
  },
  {
   "cell_type": "code",
   "execution_count": 7,
   "metadata": {},
   "outputs": [],
   "source": [
    "sorted_perplexity = {k: v for k, v in sorted(per_sentence_perplexity.items(), key=lambda item: item[1])}"
   ]
  },
  {
   "cell_type": "code",
   "execution_count": 13,
   "metadata": {},
   "outputs": [],
   "source": [
    "values = sorted_perplexity.values()\n",
    "plot_perplex = list(filter(lambda item: item < math.inf, values))"
   ]
  },
  {
   "cell_type": "code",
   "execution_count": 14,
   "metadata": {},
   "outputs": [
    {
     "data": {
      "text/plain": [
       "2.9626832243321677e+58"
      ]
     },
     "execution_count": 14,
     "metadata": {},
     "output_type": "execute_result"
    }
   ],
   "source": [
    "average_perplex = sum(plot_perplex) / len(plot_perplex)\n",
    "average_perplex"
   ]
  },
  {
   "cell_type": "code",
   "execution_count": 15,
   "metadata": {},
   "outputs": [
    {
     "data": {
      "text/plain": [
       "2.9626832243321677e+58"
      ]
     },
     "execution_count": 15,
     "metadata": {},
     "output_type": "execute_result"
    }
   ],
   "source": [
    "sum(plot_perplex) / len(plot_perplex)"
   ]
  },
  {
   "cell_type": "code",
   "execution_count": 16,
   "metadata": {},
   "outputs": [],
   "source": [
    "plot_probabilities = [1 / value for value in values]"
   ]
  },
  {
   "cell_type": "code",
   "execution_count": 17,
   "metadata": {},
   "outputs": [
    {
     "data": {
      "text/plain": [
       "[<matplotlib.lines.Line2D at 0x27cfb947d60>]"
      ]
     },
     "execution_count": 17,
     "metadata": {},
     "output_type": "execute_result"
    },
    {
     "data": {
      "image/png": "[encoded data removed]",
      "text/plain": [
       "<Figure size 1008x504 with 1 Axes>"
      ]
     },
     "metadata": {
      "needs_background": "light"
     },
     "output_type": "display_data"
    }
   ],
   "source": [
    "plt.figure(figsize=(14,7))\n",
    "plt.xlabel('Sentence')\n",
    "plt.ylabel('Perplexity')\n",
    "\n",
    "data = list(filter(lambda value: value > 0.1, plot_probabilities))\n",
    "plt.plot(data)"
   ]
  },
  {
   "cell_type": "code",
   "execution_count": 18,
   "metadata": {},
   "outputs": [
    {
     "data": {
      "text/plain": [
       "(array([10062.,  6858.,  4292.,  2087.,   891.,   337.,   118.,    49.,\n",
       "           19.,    13.]),\n",
       " array([0.10000952, 0.15613624, 0.21226296, 0.26838968, 0.3245164 ,\n",
       "        0.38064311, 0.43676983, 0.49289655, 0.54902327, 0.60514999,\n",
       "        0.66127671]),\n",
       " <BarContainer object of 10 artists>)"
      ]
     },
     "execution_count": 18,
     "metadata": {},
     "output_type": "execute_result"
    },
    {
     "data": {
      "image/png": "[encoded data removed]",
      "text/plain": [
       "<Figure size 1008x504 with 1 Axes>"
      ]
     },
     "metadata": {
      "needs_background": "light"
     },
     "output_type": "display_data"
    }
   ],
   "source": [
    "plt.figure(figsize=(14,7))\n",
    "plt.hist(data)"
   ]
  }
 ],
 "metadata": {
  "kernelspec": {
   "display_name": "Python 3",
   "language": "python",
   "name": "python3"
  },
  "language_info": {
   "codemirror_mode": {
    "name": "ipython",
    "version": 3
   },
   "file_extension": ".py",
   "mimetype": "text/x-python",
   "name": "python",
   "nbconvert_exporter": "python",
   "pygments_lexer": "ipython3",
   "version": "3.8.5"
  }
 },
 "nbformat": 4,
 "nbformat_minor": 4
}
