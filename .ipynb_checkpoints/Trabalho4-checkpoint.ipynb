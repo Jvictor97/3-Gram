{
 "cells": [
  {
   "cell_type": "code",
   "execution_count": 38,
   "metadata": {},
   "outputs": [],
   "source": [
    "import re\n",
    "import nltk\n",
    "from string import punctuation"
   ]
  },
  {
   "cell_type": "code",
   "execution_count": 34,
   "metadata": {},
   "outputs": [],
   "source": [
    "f = open(\"CHAVEFolha/folha95/FSP.950101.sgml\", \"r\")\n",
    "file_content = f.read()"
   ]
  },
  {
   "cell_type": "code",
   "execution_count": 458,
   "metadata": {},
   "outputs": [],
   "source": [
    "texts = re.findall(\"(?<=<TEXT>\\n)[\\w\\W]+?(?=<\\/TEXT>)\", file_content)"
   ]
  },
  {
   "cell_type": "markdown",
   "metadata": {},
   "source": [
    "# Funções de pré-processamento de texto"
   ]
  },
  {
   "cell_type": "code",
   "execution_count": 595,
   "metadata": {},
   "outputs": [],
   "source": [
    "def text_lowercase(text):\n",
    "    return text.lower()\n",
    "\n",
    "def remove_numbers(text):\n",
    "    return re.sub(r'\\d+', '', text)\n",
    "\n",
    "def remove_double_periods(text): \n",
    "    return re.sub(r'\\. *\\.', '.', text)\n",
    "\n",
    "def remove_punctuation(text):\n",
    "    symbols_pattern = r'[!\"#\\$%&\\'\\(\\)\\*\\+,\\-\\–\\/:=\\?@\\[\\\\\\]\\^_`{\\|}~º]'\n",
    "    text = re.sub(symbols_pattern, '', text)\n",
    "    return text\n",
    "\n",
    "def remove_multiple_whitespace(text):\n",
    "    return re.sub(' +', ' ', text)\n",
    "\n",
    "def remove_stopwords(text):\n",
    "    stop_words = set(nltk.corpus.stopwords.words('portuguese'))\n",
    "    tokens = nltk.tokenize.word_tokenize(text)\n",
    "    clean_text = [token for token in tokens if token not in stop_words]\n",
    "    return ' '.join(clean_text)\n",
    "\n",
    "def replace_linebreak_with_period(text):\n",
    "    return re.sub(' *\\n *', ' . ', text)\n",
    "\n",
    "def insert_tags(text): \n",
    "    text = '<s><s>' + text\n",
    "    text = re.sub(r' *(?<!^)\\. *(?!$)| *; *', '</s></s><s><s>', text)\n",
    "    return re.sub(' *\\. *$', '</s></s>', text)\n",
    "\n",
    "def preprocess_text(text):\n",
    "    text = text_lowercase(text)\n",
    "    text = remove_numbers(text)\n",
    "    text = remove_punctuation(text)\n",
    "    text = replace_linebreak_with_period(text)\n",
    "    text = remove_multiple_whitespace(text)\n",
    "    text = remove_double_periods(text)\n",
    "    text = remove_stopwords(text)\n",
    "    text = insert_tags(text)\n",
    "    return text"
   ]
  },
  {
   "cell_type": "code",
   "execution_count": 600,
   "metadata": {},
   "outputs": [
    {
     "data": {
      "text/plain": [
       "'Datafolha revela que 70% esperam governo ótimo ou bom; Collor teve 71% antes de assumir a Presidência \\nO sociólogo Fernando Henrique Cardoso, 63, toma possa hoje às 16h30 no Congresso como o 38º presidente do Brasil. Eleito em 3 de outubro com 34,3 milhões de votos, 54,28% dos válidos, FHC sucede a Itamar Augusto Cautiero Franco, 63, de quem foi ministro das Relações Exteriores e da Fazenda.\\nO Datafolha revela que 79% apóiam o real, moeda lançada pela equipe de FHC. Para 70%, seu governo será ótimo ou bom. Em 90, 71% tinham a mesma expectativa em relação a Fernando Collor.\\nO programa de FHC definiu como prioridades a manutenção do real e as reformas na Constituição. \\n'"
      ]
     },
     "execution_count": 600,
     "metadata": {},
     "output_type": "execute_result"
    }
   ],
   "source": [
    "text = texts[0]\n",
    "text"
   ]
  },
  {
   "cell_type": "code",
   "execution_count": 601,
   "metadata": {},
   "outputs": [
    {
     "data": {
      "text/plain": [
       "'<s><s>datafolha revela esperam governo ótimo bom</s></s><s><s>collor antes assumir presidência</s></s><s><s>sociólogo fernando henrique cardoso toma possa hoje h congresso presidente brasil</s></s><s><s>eleito outubro milhões votos válidos fhc sucede itamar augusto cautiero franco ministro relações exteriores fazenda</s></s><s><s>datafolha revela apóiam real moeda lançada equipe fhc</s></s><s><s>governo ótimo bom</s></s><s><s>mesma expectativa relação fernando collor</s></s><s><s>programa fhc definiu prioridades manutenção real reformas constituição</s></s>'"
      ]
     },
     "execution_count": 601,
     "metadata": {},
     "output_type": "execute_result"
    }
   ],
   "source": [
    "test = preprocess_text(text)\n",
    "test"
   ]
  },
  {
   "cell_type": "code",
   "execution_count": 602,
   "metadata": {},
   "outputs": [
    {
     "name": "stdout",
     "output_type": "stream",
     "text": [
      "16\n",
      "16\n"
     ]
    }
   ],
   "source": [
    "print(len(re.findall(r'<s>', test)))\n",
    "print(len(re.findall(r'</s>', test)))"
   ]
  },
  {
   "cell_type": "code",
   "execution_count": 603,
   "metadata": {},
   "outputs": [
    {
     "data": {
      "text/plain": [
       "['datafolha revela esperam governo ótimo bom',\n",
       " 'collor antes assumir presidência',\n",
       " 'sociólogo fernando henrique cardoso toma possa hoje h congresso presidente brasil',\n",
       " 'eleito outubro milhões votos válidos fhc sucede itamar augusto cautiero franco ministro relações exteriores fazenda',\n",
       " 'datafolha revela apóiam real moeda lançada equipe fhc',\n",
       " 'governo ótimo bom',\n",
       " 'mesma expectativa relação fernando collor',\n",
       " 'programa fhc definiu prioridades manutenção real reformas constituição']"
      ]
     },
     "execution_count": 603,
     "metadata": {},
     "output_type": "execute_result"
    }
   ],
   "source": [
    "re.findall('(?<=<s><s>)[\\w\\W]+?(?=<\\/s><\\/s>)', test)"
   ]
  },
  {
   "cell_type": "code",
   "execution_count": null,
   "metadata": {},
   "outputs": [],
   "source": []
  }
 ],
 "metadata": {
  "kernelspec": {
   "display_name": "Python 3",
   "language": "python",
   "name": "python3"
  },
  "language_info": {
   "codemirror_mode": {
    "name": "ipython",
    "version": 3
   },
   "file_extension": ".py",
   "mimetype": "text/x-python",
   "name": "python",
   "nbconvert_exporter": "python",
   "pygments_lexer": "ipython3",
   "version": "3.8.5"
  }
 },
 "nbformat": 4,
 "nbformat_minor": 4
}
